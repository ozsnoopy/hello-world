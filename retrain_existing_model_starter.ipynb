{
  "nbformat": 4,
  "nbformat_minor": 0,
  "metadata": {
    "colab": {
      "name": "retrain_existing_model_starter",
      "provenance": [],
      "collapsed_sections": [],
      "include_colab_link": true
    },
    "kernelspec": {
      "name": "python3",
      "display_name": "Python 3"
    },
    "accelerator": "GPU"
  },
  "cells": [
    {
      "cell_type": "markdown",
      "metadata": {
        "id": "view-in-github",
        "colab_type": "text"
      },
      "source": [
        "<a href=\"https://colab.research.google.com/github/ozsnoopy/hello-world/blob/master/retrain_existing_model_starter.ipynb\" target=\"_parent\"><img src=\"https://colab.research.google.com/assets/colab-badge.svg\" alt=\"Open In Colab\"/></a>"
      ]
    },
    {
      "cell_type": "markdown",
      "metadata": {
        "id": "i3KsphWPVc6b"
      },
      "source": [
        "Import some library code\n",
        "\n",
        "\n",
        "*   `tensorflow` is the machine learning library we're using\n",
        "*   `os` helps us interact with files and folders\n",
        "*   `matplotlib` is for displaying charts and images\n",
        "*   `numpy` helps us work with data to prepare it for `tensorflow` and review it afterwards\n"
      ]
    },
    {
      "cell_type": "code",
      "metadata": {
        "id": "0m4C75UZUYHZ"
      },
      "source": [
        "import tensorflow as tf\n",
        "import os\n",
        "import matplotlib.pyplot as plt\n",
        "import numpy as np"
      ],
      "execution_count": null,
      "outputs": []
    },
    {
      "cell_type": "markdown",
      "metadata": {
        "id": "3DbrXhkzVWgj"
      },
      "source": [
        "This code gets the data you will use to train your model: pictures of cats and dogs.\n"
      ]
    },
    {
      "cell_type": "code",
      "metadata": {
        "id": "OMFIwvTjUpeV"
      },
      "source": [
        "import tensorflow_datasets as tfds\n",
        "(raw_training, raw_validation, raw_testing), metadata = tfds.load(\n",
        "    'cats_vs_dogs',\n",
        "    split=['train[:80%]', 'train[80%:90%]', 'train[90%:]'],\n",
        "    with_info=True,\n",
        "    as_supervised=True,\n",
        ")"
      ],
      "execution_count": null,
      "outputs": []
    },
    {
      "cell_type": "markdown",
      "metadata": {
        "id": "rQ2EH08Tx6Ev"
      },
      "source": [
        "\n",
        "This function takes an image and a label as inputs. The image is then converted into three sets of numbers representing the colours red, green, and blue for every pixel in the image. The combination of these colours can form any other colour. The red, green, and blue values are then converted from numbers between 0 and 255, to numbers between -1 and 1, as the model has been trained to work with values in that range. Finally, the image is resized based on the `IMAGE_SIZE` constant, to match the size the model was previously trained on. In this case, it's a 160 by 160 pixel square.\n"
      ]
    },
    {
      "cell_type": "code",
      "metadata": {
        "id": "mQ2XEMTtaDPG"
      },
      "source": [
        "IMAGE_SIZE = 160\n",
        "\n",
        "training_data = None\n",
        "\n",
        "# Resize an image, and convert it into a form that tensorflow can read more easily \n",
        "def prep_image(image, label):\n",
        "  image = tf.cast(image, tf.float32)\n",
        "  image = (image/127.5) - 1\n",
        "  image = tf.image.resize(image, (IMAGE_SIZE, IMAGE_SIZE))\n",
        "  return image, label\n",
        "\n",
        "training_data = raw_training.map(prep_image)\n",
        "validation_data = raw_validation.map(prep_image)\n",
        "testing_data = raw_testing.map(prep_image)"
      ],
      "execution_count": null,
      "outputs": []
    },
    {
      "cell_type": "markdown",
      "metadata": {
        "id": "pFqlVlN6CYNo"
      },
      "source": [
        "These are versions of the functions from the previous project, so you can use them to test your model."
      ]
    },
    {
      "cell_type": "code",
      "metadata": {
        "id": "HwfYVi6GCVtd"
      },
      "source": [
        "def get_image_from_url(image_url):\n",
        "  # If the temporary test_image.jpg file already exists, \n",
        "  # delete it so a new one can be made.\n",
        "  if os.path.exists('/root/.keras/datasets/test_image.jpg'):\n",
        "    os.remove('/root/.keras/datasets/test_image.jpg')\n",
        "\n",
        "  image_path = tf.keras.utils.get_file('test_image.jpg', origin=image_url)\n",
        "  return image_path\n",
        "\n",
        "def print_predictions(predictions):\n",
        "    for (prediction, number) in zip(predictions[0], range(1, len(predictions[0])+1)):\n",
        "      print('{}. {} {:.2f}%'.format(number, prediction[1], prediction[2]*100))\n",
        "\n",
        "def predict_with_old_model(image_url):\n",
        "  image_path = get_image_from_url(image_url)\n",
        "  \n",
        "  image = tf.keras.preprocessing.image.load_img(image_path, target_size=(IMAGE_SIZE, IMAGE_SIZE))\n",
        "\n",
        "  plt.figure()\n",
        "  plt.imshow(image)\n",
        "\n",
        "  image = tf.keras.preprocessing.image.img_to_array(image)\n",
        "  image = np.expand_dims(image, axis=0)\n",
        "  \n",
        "  prediction_result = original_model.predict(image, batch_size=1)\n",
        "  predictions = tf.keras.applications.imagenet_utils.decode_predictions(prediction_result, top=15)\n",
        "\n",
        "  print_predictions(predictions)\n",
        "\n",
        "def predict_image(image_url):\n",
        "  image_path = get_image_from_url(image_url)\n",
        "  \n",
        "  image = tf.keras.preprocessing.image.load_img(image_path, target_size=(IMAGE_SIZE, IMAGE_SIZE))\n",
        "\n",
        "  plt.figure()\n",
        "  plt.imshow(image)\n",
        "\n",
        "  image = tf.keras.preprocessing.image.img_to_array(image)\n",
        "  image = np.expand_dims(image, axis=0)\n",
        "  \n",
        "  prediction_result = model.predict(image, batch_size=1)\n",
        "  labels = metadata.features['label'].names\n",
        "  print(labels[prediction_result.argmin()])"
      ],
      "execution_count": null,
      "outputs": []
    },
    {
      "cell_type": "markdown",
      "metadata": {
        "id": "E-wCiqLKvJVF"
      },
      "source": [
        "Import and test the MobileNetV2 model that you will retrain.\n",
        "\n"
      ]
    },
    {
      "cell_type": "code",
      "metadata": {
        "id": "nXn-yycIZ_Vf"
      },
      "source": [
        ""
      ],
      "execution_count": null,
      "outputs": []
    },
    {
      "cell_type": "markdown",
      "metadata": {
        "id": "stKhRFDlvKE2"
      },
      "source": [
        "In the cell below, split your images into training, validation, and testing data."
      ]
    },
    {
      "cell_type": "code",
      "metadata": {
        "id": "7zI-5FKrdFSA"
      },
      "source": [
        ""
      ],
      "execution_count": null,
      "outputs": []
    },
    {
      "cell_type": "markdown",
      "metadata": {
        "id": "AAXeCK0xvKcI"
      },
      "source": [
        "Add the new layers to the model, to allow it to be retrained."
      ]
    },
    {
      "cell_type": "code",
      "metadata": {
        "id": "IEdPUXxbpmHw"
      },
      "source": [
        ""
      ],
      "execution_count": null,
      "outputs": []
    },
    {
      "cell_type": "markdown",
      "metadata": {
        "id": "tJGfwMeCvK19"
      },
      "source": [
        "Set up your training epochs and train the new layers of the model."
      ]
    },
    {
      "cell_type": "code",
      "metadata": {
        "id": "_yIVNQ0xu3FA"
      },
      "source": [
        ""
      ],
      "execution_count": null,
      "outputs": []
    },
    {
      "cell_type": "markdown",
      "metadata": {
        "id": "09yMD-z7vLMZ"
      },
      "source": [
        "Use the `predict_image` function to test your model."
      ]
    },
    {
      "cell_type": "code",
      "metadata": {
        "id": "gebsfn75wKRg"
      },
      "source": [
        ""
      ],
      "execution_count": null,
      "outputs": []
    }
  ]
}